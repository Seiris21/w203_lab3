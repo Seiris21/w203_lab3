{
 "cells": [
  {
   "cell_type": "markdown",
   "metadata": {},
   "source": [
    "# Lab 3"
   ]
  },
  {
   "cell_type": "markdown",
   "metadata": {},
   "source": [
    "## W 203 Section 4"
   ]
  },
  {
   "cell_type": "markdown",
   "metadata": {},
   "source": [
    "### James Wall, Jeya Seenivasagam, Derrick Hee"
   ]
  },
  {
   "cell_type": "markdown",
   "metadata": {},
   "source": [
    "# Introduction"
   ]
  },
  {
   "cell_type": "markdown",
   "metadata": {},
   "source": [
    "The purpose of this report is to explore the causes of crime in several counties in North Caroline. \n",
    "\n",
    "The main dependent variable explored throughout this report is **crime rate**. Every other variable can be considered an independent variable and will be considered as to whether it is a factor in any increase or decrease in crime rate.\n",
    "\n",
    "We explore these variables with linear regression, specifically using the ordinary least squares method. We use hypothesis testing techniques to understand if any of our findings have statistical significance. We then look at whether there is any practical significance in our results.\n",
    "\n",
    "Our goal is to use the findings in this report to inform policy recommendations for this political campaign."
   ]
  },
  {
   "cell_type": "markdown",
   "metadata": {},
   "source": [
    "# Exploratory Data Analysis"
   ]
  },
  {
   "cell_type": "markdown",
   "metadata": {},
   "source": [
    "## Data cleaning"
   ]
  },
  {
   "cell_type": "code",
   "execution_count": 1,
   "metadata": {},
   "outputs": [],
   "source": [
    "data_set = read.csv(\"crime_v2.csv\")"
   ]
  },
  {
   "cell_type": "markdown",
   "metadata": {},
   "source": [
    "First we will explore the structures of all of the variables in this study."
   ]
  },
  {
   "cell_type": "code",
   "execution_count": 9,
   "metadata": {},
   "outputs": [
    {
     "name": "stdout",
     "output_type": "stream",
     "text": [
      "'data.frame':\t97 obs. of  25 variables:\n",
      " $ county  : int  1 3 5 7 9 11 13 15 17 19 ...\n",
      " $ year    : int  87 87 87 87 87 87 87 87 87 87 ...\n",
      " $ crmrte  : num  0.0356 0.0153 0.013 0.0268 0.0106 ...\n",
      " $ prbarr  : num  0.298 0.132 0.444 0.365 0.518 ...\n",
      " $ prbconv : Factor w/ 92 levels \"\",\"`\",\"0.068376102\",..: 63 89 13 62 52 3 59 78 42 86 ...\n",
      " $ prbpris : num  0.436 0.45 0.6 0.435 0.443 ...\n",
      " $ avgsen  : num  6.71 6.35 6.76 7.14 8.22 ...\n",
      " $ polpc   : num  0.001828 0.000746 0.001234 0.00153 0.00086 ...\n",
      " $ density : num  2.423 1.046 0.413 0.492 0.547 ...\n",
      " $ taxpc   : num  31 26.9 34.8 42.9 28.1 ...\n",
      " $ west    : int  0 0 1 0 1 1 0 0 0 0 ...\n",
      " $ central : int  1 1 0 1 0 0 0 0 0 0 ...\n",
      " $ urban   : int  0 0 0 0 0 0 0 0 0 0 ...\n",
      " $ pctmin80: num  20.22 7.92 3.16 47.92 1.8 ...\n",
      " $ wcon    : num  281 255 227 375 292 ...\n",
      " $ wtuc    : num  409 376 372 398 377 ...\n",
      " $ wtrd    : num  221 196 229 191 207 ...\n",
      " $ wfir    : num  453 259 306 281 289 ...\n",
      " $ wser    : num  274 192 210 257 215 ...\n",
      " $ wmfg    : num  335 300 238 282 291 ...\n",
      " $ wfed    : num  478 410 359 412 377 ...\n",
      " $ wsta    : num  292 363 332 328 367 ...\n",
      " $ wloc    : num  312 301 281 299 343 ...\n",
      " $ mix     : num  0.0802 0.0302 0.4651 0.2736 0.0601 ...\n",
      " $ pctymle : num  0.0779 0.0826 0.0721 0.0735 0.0707 ...\n"
     ]
    }
   ],
   "source": [
    "str(data_set)"
   ]
  },
  {
   "cell_type": "markdown",
   "metadata": {},
   "source": [
    "We note that we are working with 97 observations of 25 variables each. Most of the variables are numeric while there are a few categorical variables as well.\n",
    "\n",
    "We note that the variable 'prbconv', which is intended to represent the probability of a conviction, is a Factor variable. We believe that this is an error, as probabilities are continuous and uncountably infinite and \"Factor\" variables are intended to represent a finite set of data.\n",
    "\n",
    "Consequently, we elect to convert prbconv from a Factor to a numeric data type."
   ]
  },
  {
   "cell_type": "code",
   "execution_count": 12,
   "metadata": {},
   "outputs": [
    {
     "name": "stderr",
     "output_type": "stream",
     "text": [
      "Warning message in eval(expr, envir, enclos):\n",
      "\"NAs introduced by coercion\""
     ]
    }
   ],
   "source": [
    "data_set$prbconv <- as.numeric(levels(data_set$prbconv))[data_set$prbconv]"
   ]
  },
  {
   "cell_type": "markdown",
   "metadata": {},
   "source": [
    "We now review the variables with the new prbconv."
   ]
  },
  {
   "cell_type": "code",
   "execution_count": 13,
   "metadata": {},
   "outputs": [
    {
     "name": "stdout",
     "output_type": "stream",
     "text": [
      "'data.frame':\t97 obs. of  25 variables:\n",
      " $ county  : int  1 3 5 7 9 11 13 15 17 19 ...\n",
      " $ year    : int  87 87 87 87 87 87 87 87 87 87 ...\n",
      " $ crmrte  : num  0.0356 0.0153 0.013 0.0268 0.0106 ...\n",
      " $ prbarr  : num  0.298 0.132 0.444 0.365 0.518 ...\n",
      " $ prbconv : num  0.528 1.481 0.268 0.525 0.477 ...\n",
      " $ prbpris : num  0.436 0.45 0.6 0.435 0.443 ...\n",
      " $ avgsen  : num  6.71 6.35 6.76 7.14 8.22 ...\n",
      " $ polpc   : num  0.001828 0.000746 0.001234 0.00153 0.00086 ...\n",
      " $ density : num  2.423 1.046 0.413 0.492 0.547 ...\n",
      " $ taxpc   : num  31 26.9 34.8 42.9 28.1 ...\n",
      " $ west    : int  0 0 1 0 1 1 0 0 0 0 ...\n",
      " $ central : int  1 1 0 1 0 0 0 0 0 0 ...\n",
      " $ urban   : int  0 0 0 0 0 0 0 0 0 0 ...\n",
      " $ pctmin80: num  20.22 7.92 3.16 47.92 1.8 ...\n",
      " $ wcon    : num  281 255 227 375 292 ...\n",
      " $ wtuc    : num  409 376 372 398 377 ...\n",
      " $ wtrd    : num  221 196 229 191 207 ...\n",
      " $ wfir    : num  453 259 306 281 289 ...\n",
      " $ wser    : num  274 192 210 257 215 ...\n",
      " $ wmfg    : num  335 300 238 282 291 ...\n",
      " $ wfed    : num  478 410 359 412 377 ...\n",
      " $ wsta    : num  292 363 332 328 367 ...\n",
      " $ wloc    : num  312 301 281 299 343 ...\n",
      " $ mix     : num  0.0802 0.0302 0.4651 0.2736 0.0601 ...\n",
      " $ pctymle : num  0.0779 0.0826 0.0721 0.0735 0.0707 ...\n"
     ]
    }
   ],
   "source": [
    "str(data_set)"
   ]
  },
  {
   "cell_type": "markdown",
   "metadata": {},
   "source": [
    "We next look at the interesting facets of each variable (such as the mean and the median)."
   ]
  },
  {
   "cell_type": "code",
   "execution_count": 14,
   "metadata": {},
   "outputs": [
    {
     "data": {
      "text/plain": [
       "     county           year        crmrte             prbarr       \n",
       " Min.   :  1.0   Min.   :87   Min.   :0.005533   Min.   :0.09277  \n",
       " 1st Qu.: 52.0   1st Qu.:87   1st Qu.:0.020927   1st Qu.:0.20568  \n",
       " Median :105.0   Median :87   Median :0.029986   Median :0.27095  \n",
       " Mean   :101.6   Mean   :87   Mean   :0.033400   Mean   :0.29492  \n",
       " 3rd Qu.:152.0   3rd Qu.:87   3rd Qu.:0.039642   3rd Qu.:0.34438  \n",
       " Max.   :197.0   Max.   :87   Max.   :0.098966   Max.   :1.09091  \n",
       " NA's   :6       NA's   :6    NA's   :6          NA's   :6        \n",
       "    prbconv           prbpris           avgsen           polpc         \n",
       " Min.   :0.06838   Min.   :0.1500   Min.   : 5.380   Min.   :0.000746  \n",
       " 1st Qu.:0.34541   1st Qu.:0.3648   1st Qu.: 7.340   1st Qu.:0.001231  \n",
       " Median :0.45283   Median :0.4234   Median : 9.100   Median :0.001485  \n",
       " Mean   :0.55128   Mean   :0.4108   Mean   : 9.647   Mean   :0.001702  \n",
       " 3rd Qu.:0.58886   3rd Qu.:0.4568   3rd Qu.:11.420   3rd Qu.:0.001877  \n",
       " Max.   :2.12121   Max.   :0.6000   Max.   :20.700   Max.   :0.009054  \n",
       " NA's   :6         NA's   :6        NA's   :6        NA's   :6         \n",
       "    density            taxpc             west           central      \n",
       " Min.   :0.00002   Min.   : 25.69   Min.   :0.0000   Min.   :0.0000  \n",
       " 1st Qu.:0.54741   1st Qu.: 30.66   1st Qu.:0.0000   1st Qu.:0.0000  \n",
       " Median :0.96226   Median : 34.87   Median :0.0000   Median :0.0000  \n",
       " Mean   :1.42884   Mean   : 38.06   Mean   :0.2527   Mean   :0.3736  \n",
       " 3rd Qu.:1.56824   3rd Qu.: 40.95   3rd Qu.:0.5000   3rd Qu.:1.0000  \n",
       " Max.   :8.82765   Max.   :119.76   Max.   :1.0000   Max.   :1.0000  \n",
       " NA's   :6         NA's   :6        NA's   :6        NA's   :6       \n",
       "     urban            pctmin80           wcon            wtuc      \n",
       " Min.   :0.00000   Min.   : 1.284   Min.   :193.6   Min.   :187.6  \n",
       " 1st Qu.:0.00000   1st Qu.: 9.845   1st Qu.:250.8   1st Qu.:374.6  \n",
       " Median :0.00000   Median :24.312   Median :281.4   Median :406.5  \n",
       " Mean   :0.08791   Mean   :25.495   Mean   :285.4   Mean   :411.7  \n",
       " 3rd Qu.:0.00000   3rd Qu.:38.142   3rd Qu.:314.8   3rd Qu.:443.4  \n",
       " Max.   :1.00000   Max.   :64.348   Max.   :436.8   Max.   :613.2  \n",
       " NA's   :6         NA's   :6        NA's   :6       NA's   :6      \n",
       "      wtrd            wfir            wser             wmfg      \n",
       " Min.   :154.2   Min.   :170.9   Min.   : 133.0   Min.   :157.4  \n",
       " 1st Qu.:190.9   1st Qu.:286.5   1st Qu.: 229.7   1st Qu.:288.9  \n",
       " Median :203.0   Median :317.3   Median : 253.2   Median :320.2  \n",
       " Mean   :211.6   Mean   :322.1   Mean   : 275.6   Mean   :335.6  \n",
       " 3rd Qu.:225.1   3rd Qu.:345.4   3rd Qu.: 280.5   3rd Qu.:359.6  \n",
       " Max.   :354.7   Max.   :509.5   Max.   :2177.1   Max.   :646.9  \n",
       " NA's   :6       NA's   :6       NA's   :6        NA's   :6      \n",
       "      wfed            wsta            wloc            mix         \n",
       " Min.   :326.1   Min.   :258.3   Min.   :239.2   Min.   :0.01961  \n",
       " 1st Qu.:400.2   1st Qu.:329.3   1st Qu.:297.3   1st Qu.:0.08074  \n",
       " Median :449.8   Median :357.7   Median :308.1   Median :0.10186  \n",
       " Mean   :442.9   Mean   :357.5   Mean   :312.7   Mean   :0.12884  \n",
       " 3rd Qu.:478.0   3rd Qu.:382.6   3rd Qu.:329.2   3rd Qu.:0.15175  \n",
       " Max.   :598.0   Max.   :499.6   Max.   :388.1   Max.   :0.46512  \n",
       " NA's   :6       NA's   :6       NA's   :6       NA's   :6        \n",
       "    pctymle       \n",
       " Min.   :0.06216  \n",
       " 1st Qu.:0.07443  \n",
       " Median :0.07771  \n",
       " Mean   :0.08396  \n",
       " 3rd Qu.:0.08350  \n",
       " Max.   :0.24871  \n",
       " NA's   :6        "
      ]
     },
     "metadata": {},
     "output_type": "display_data"
    }
   ],
   "source": [
    "summary(data_set)"
   ]
  },
  {
   "cell_type": "markdown",
   "metadata": {},
   "source": [
    "TODO: Remove rows with NA\n",
    "\n",
    "then note . It should be\n",
    "noted that there are 100 counties in North Carolina; therefore this dataset contains data for 91% of them. It is not possible to\n",
    "tell if the excluded counties are randomly excluded or share specific features that may bias this data set.\n"
   ]
  },
  {
   "cell_type": "markdown",
   "metadata": {},
   "source": [
    "TODO: Eliminate all missing data based on county"
   ]
  },
  {
   "cell_type": "markdown",
   "metadata": {},
   "source": [
    "TODO: Eliminate data by reassigning index to county."
   ]
  },
  {
   "cell_type": "markdown",
   "metadata": {},
   "source": [
    "MAYBE DELETE?\n",
    "\n",
    "We note that two of the variables that are intended to represent probabilities (prbarr and prbconv) have maximum values greater than 1. We feel comforable assuming that the entries greater than 1 must be in error, as probabilities must lie in between 0 and 1.\n",
    "\n",
    "To be safe, we remove all rows where the value of any of our probability variables (prbpris, prbarr, and prconv) is greater than 1."
   ]
  },
  {
   "cell_type": "markdown",
   "metadata": {},
   "source": [
    "# Model Specification #1"
   ]
  },
  {
   "cell_type": "markdown",
   "metadata": {},
   "source": [
    "DELETE THIS CELL LATER\n",
    "\n",
    "This model will be this one:\n",
    "- One model with only the explanatory variables of key interest (possibly transformed, as\n",
    "determined by your EDA), and no other covariates.\n",
    "\n",
    "Here are some things to keep in mind during your model building process:\n",
    "1. What do you want to measure? Make sure you identify variables that will be relevant to the\n",
    "concerns of the political campaign.\n",
    "2. What covariates help you identify a causal effect? What covariates are problematic, either\n",
    "due to multicollinearity, or because they will absorb some of a causal effect you want to\n",
    "measure?\n",
    "3. What transformations should you apply to each variable? This is very important because\n",
    "transformations can reveal linearities in the data, make our results relevant, or help us meet\n",
    "model assumptions.\n",
    "4. Are your choices supported by EDA? You will likely start with some general EDA to detect\n",
    "anomalies (missing values, top-coded variables, etc.). From then on, your EDA should be\n",
    "interspersed with your model building. Use visual tools to guide your decisions.\n"
   ]
  },
  {
   "cell_type": "markdown",
   "metadata": {},
   "source": [
    "# Model Specification #2"
   ]
  },
  {
   "cell_type": "markdown",
   "metadata": {},
   "source": [
    "DELETE THIS CELL LATER\n",
    "\n",
    "This model will be this one:\n",
    "• One model that includes key explanatory variables and only covariates that you believe\n",
    "increase the accuracy of your results without introducing substantial bias (for example, you\n",
    "should not include outcome variables that will absorb some of the causal effect you are\n",
    "interested in). This model should strike a balance between accuracy and parsimony and\n",
    "reflect your best understanding of the determinants of crime.\n",
    "\n",
    "Here are some things to keep in mind during your model building process:\n",
    "1. What do you want to measure? Make sure you identify variables that will be relevant to the\n",
    "concerns of the political campaign.\n",
    "2. What covariates help you identify a causal effect? What covariates are problematic, either\n",
    "due to multicollinearity, or because they will absorb some of a causal effect you want to\n",
    "measure?\n",
    "3. What transformations should you apply to each variable? This is very important because\n",
    "transformations can reveal linearities in the data, make our results relevant, or help us meet\n",
    "model assumptions.\n",
    "4. Are your choices supported by EDA? You will likely start with some general EDA to detect\n",
    "anomalies (missing values, top-coded variables, etc.). From then on, your EDA should be\n",
    "interspersed with your model building. Use visual tools to guide your decisions.\n"
   ]
  },
  {
   "cell_type": "markdown",
   "metadata": {},
   "source": [
    "# Model Specification #3"
   ]
  },
  {
   "cell_type": "markdown",
   "metadata": {},
   "source": [
    "DELETE THIS CELL LATER\n",
    "\n",
    "This model will be this one:\n",
    "• One model that includes the previous covariates, and most, if not all, other covariates. A key\n",
    "purpose of this model is to demonstrate the robustness of your results to model specification.\n",
    "\n",
    "Here are some things to keep in mind during your model building process:\n",
    "1. What do you want to measure? Make sure you identify variables that will be relevant to the\n",
    "concerns of the political campaign.\n",
    "2. What covariates help you identify a causal effect? What covariates are problematic, either\n",
    "due to multicollinearity, or because they will absorb some of a causal effect you want to\n",
    "measure?\n",
    "3. What transformations should you apply to each variable? This is very important because\n",
    "transformations can reveal linearities in the data, make our results relevant, or help us meet\n",
    "model assumptions.\n",
    "4. Are your choices supported by EDA? You will likely start with some general EDA to detect\n",
    "anomalies (missing values, top-coded variables, etc.). From then on, your EDA should be\n",
    "interspersed with your model building. Use visual tools to guide your decisions.\n"
   ]
  },
  {
   "cell_type": "markdown",
   "metadata": {},
   "source": [
    "# Regression Table"
   ]
  },
  {
   "cell_type": "markdown",
   "metadata": {},
   "source": [
    "DELETE THIS CELL LATER\n",
    "\n",
    "Your report will include a model building process, culminating in a well formatted regression table that displays a minimum of three model specifications.\n",
    "\n",
    "You should display all of your model specifications in a regression table, using a package like stargazer to format your output. It should be easy for the reader to find the coefficients that represent key effects near the top of the regression table, and scan horizontally to see how they change from specification to specification. Since we won’t cover inference for linear regression until unit 12, you should not display any standard errors at this point. You should also avoid conducting statistical tests for now (but please do point out what tests you think would be valuable)"
   ]
  },
  {
   "cell_type": "markdown",
   "metadata": {},
   "source": [
    "# Residual Analysis"
   ]
  },
  {
   "cell_type": "markdown",
   "metadata": {},
   "source": [
    "# Omitted variables discussion"
   ]
  },
  {
   "cell_type": "markdown",
   "metadata": {},
   "source": [
    "DELETE THIS CELL LATER\n",
    "\n",
    "The data is provided in a file, crime_v2.csv. While we are only providing you with a single cross-section of\n",
    "data, the original study was based on a multi-year panel. The authors used panel data methods\n",
    "and instrumental variables to control for some types of omitted variables. \n",
    "\n",
    "Since you are restricted to ordinary least squares regression, omitted variables will be a major obstacle to your estimates.\n",
    "\n",
    "You should aim for causal estimates, while clearly explaining how you think omitted variables\n",
    "may affect your conclusions.\n",
    "\n",
    "After your model building process, you should include a substantial discussion of omitted\n",
    "variables. Identify what you think are the 5-10 most important omitted variables that bias results\n",
    "you care about. For each variable, you should estimate what direction the bias is in. If you can\n",
    "argue whether the bias is large or small, that is even better. State whether you have any variables\n",
    "available that may proxy (even imperfectly) for the omitted variable. Pay particular attention to\n",
    "whether each omitted variable bias is towards zero or away from zero. You will use this information to judge whether the effects you find are likely to be real, or whether they might be entirely\n",
    "an artifact of omitted variable bias."
   ]
  },
  {
   "cell_type": "markdown",
   "metadata": {},
   "source": [
    "# Conclusion"
   ]
  }
 ],
 "metadata": {
  "kernelspec": {
   "display_name": "R",
   "language": "R",
   "name": "ir"
  },
  "language_info": {
   "codemirror_mode": "r",
   "file_extension": ".r",
   "mimetype": "text/x-r-source",
   "name": "R",
   "pygments_lexer": "r",
   "version": "3.6.1"
  }
 },
 "nbformat": 4,
 "nbformat_minor": 2
}
